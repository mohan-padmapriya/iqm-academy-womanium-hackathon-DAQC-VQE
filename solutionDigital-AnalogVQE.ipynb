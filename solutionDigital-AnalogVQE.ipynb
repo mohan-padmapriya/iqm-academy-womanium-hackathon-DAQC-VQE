{
 "cells": [
  {
   "cell_type": "markdown",
   "id": "08d6087f",
   "metadata": {},
   "source": [
    "# Digital-Analog VQE\n",
    "\n",
    "This notebook contains our implementation of the VQE (Variational Quantum Eigensolver) algorithm using a digital-analog ansatz.  "
   ]
  },
  {
   "cell_type": "code",
   "execution_count": 1,
   "id": "fe850f98",
   "metadata": {},
   "outputs": [],
   "source": [
    "import numpy as np\n",
    "\n",
    "from qiskit import QuantumCircuit, transpile, Aer, IBMQ\n",
    "from qiskit.tools.jupyter import *\n",
    "from qiskit.visualization import *\n",
    "\n",
    "from qiskit.providers.aer import QasmSimulator\n",
    "\n",
    "import qutip as qt\n",
    "from qiskit import QuantumCircuit, QuantumRegister, Aer, execute\n",
    "from qiskit.providers.aer import QasmSimulator\n",
    "from qiskit.quantum_info import Operator\n",
    "import scipy.linalg\n",
    "\n",
    "from qiskit.circuit import Gate, QuantumCircuit, QuantumRegister, ParameterExpression\n",
    "from qiskit.quantum_info.operators.predicates import matrix_equal\n",
    "from qiskit.quantum_info.operators.predicates import is_hermitian_matrix\n",
    "from qiskit.extensions.exceptions import ExtensionError\n",
    "from qiskit.circuit.exceptions import CircuitError"
   ]
  },
  {
   "cell_type": "code",
   "execution_count": 2,
   "id": "83aa3cf7",
   "metadata": {},
   "outputs": [],
   "source": [
    "# Now we define our custom ansatz.\n",
    "# This code a modification of the code that is based on https://github.com/Qiskit/qiskit-terra/blob/main/qiskit/extensions/hamiltonian_gate.py licenced under Apache licence.\n",
    "\n",
    "from qiskit.circuit import Gate, QuantumCircuit, QuantumRegister, ParameterExpression\n",
    "from qiskit.quantum_info.operators.predicates import matrix_equal\n",
    "from qiskit.quantum_info.operators.predicates import is_hermitian_matrix\n",
    "from qiskit.extensions.exceptions import ExtensionError\n",
    "from qiskit.circuit.exceptions import CircuitError\n",
    "\n",
    "from qiskit.circuit import Parameter, QuantumCircuit, QuantumRegister \n",
    "\n",
    "\n",
    "from qiskit.extensions.unitary import UnitaryGate\n",
    "\n",
    "class CustomHamiltonianGate(Gate):\n",
    "    def __init__(self, time, num_qubits, connectivity, h_coeffs, label=None):\n",
    "        if isinstance(time, Number) and time != np.real(time):\n",
    "            raise ExtensionError(\"Evolution time is not real.\")\n",
    "       \n",
    "        self.num_qubits = num_qubits\n",
    "        self.connectivity = connectivity\n",
    "        self.h_coeffs = h_coeffs\n",
    "        # Store instruction params\n",
    "        super().__init__(\"custom_hamiltonian\", num_qubits, [time, num_qubits, connectivity, h_coeffs], label=label)\n",
    "\n",
    "    def __array__(self, dtype=None):\n",
    "        \"\"\"Return matrix for the unitary.\"\"\"\n",
    "        # pylint: disable=unused-argument\n",
    "        import scipy.linalg\n",
    "\n",
    "        try:\n",
    "            return scipy.linalg.expm(-1j * self.get_ham() * float(self.params[0]))\n",
    "        except TypeError as ex:\n",
    "            raise TypeError(\n",
    "                \"Unable to generate Unitary matrix for \"\n",
    "                \"unbound t parameter {}\".format(self.params[1])\n",
    "            ) from ex\n",
    "\n",
    "    def _define(self):\n",
    "        \"\"\"Calculate a subcircuit that implements this unitary.\"\"\"\n",
    "        q = QuantumRegister(self.num_qubits, \"q\")\n",
    "        qc = QuantumCircuit(q, name=self.name)\n",
    "        qc._append(UnitaryGate(self.to_matrix()), q[:], [])\n",
    "        self.definition = qc\n",
    "\n",
    "    def validate_parameter(self, parameter):\n",
    "        return parameter\n",
    "\n",
    "    def get_ham(self):\n",
    "        dim = 2 ** self.num_qubits\n",
    "        num_connections = len(self.connectivity)\n",
    "        zz_hamiltonian = np.zeros([dim, dim], dtype=np.complex128)\n",
    "\n",
    "        for c in range(num_connections):\n",
    "            ops_to_tensor = [qt.identity(2)] * num_qubits\n",
    "            ops_to_tensor[self.connectivity[c][0]] = qt.sigmaz()\n",
    "            ops_to_tensor[self.connectivity[c][1]] = qt.sigmaz()\n",
    "            zz_hamiltonian += float(self.params[3]) * np.array(qt.tensor(ops_to_tensor)) #+= \n",
    "\n",
    "        return zz_hamiltonian\n",
    "\n",
    "def custom_hamiltonian(self, time, connectivity, h_coeffs, qubits, label=None):\n",
    "    \"\"\"Apply hamiltonian evolution to qubits.\"\"\"\n",
    "    if not isinstance(qubits, list):\n",
    "        qubits = [qubits]\n",
    "\n",
    "    return self.append(CustomHamiltonianGate(time=time, num_qubits =len(qubits), connectivity=connectivity, h_coeffs=h_coeffs, label=label), qubits, [])\n",
    "\n",
    "\n",
    "QuantumCircuit.custom_hamiltonian = custom_hamiltonian"
   ]
  },
  {
   "cell_type": "code",
   "execution_count": 17,
   "id": "37f60ee6",
   "metadata": {},
   "outputs": [
    {
     "data": {
      "text/html": [
       "<pre style=\"word-wrap: normal;white-space: pre;background: #fff0;line-height: 1.1;font-family: &quot;Courier New&quot;,Courier,monospace\">       ┌───────┐┌────────────────────────────────┐\n",
       "q38_0: ┤ Ry(a) ├┤0                               ├\n",
       "       ├───────┤│  Analog_Block1(1,2,[[0, 1]],t) │\n",
       "q38_1: ┤ Rx(b) ├┤1                               ├\n",
       "       └───────┘└────────────────────────────────┘</pre>"
      ],
      "text/plain": [
       "       ┌───────┐┌────────────────────────────────┐\n",
       "q38_0: ┤ Ry(a) ├┤0                               ├\n",
       "       ├───────┤│  Analog_Block1(1,2,[[0, 1]],t) │\n",
       "q38_1: ┤ Rx(b) ├┤1                               ├\n",
       "       └───────┘└────────────────────────────────┘"
      ]
     },
     "execution_count": 17,
     "metadata": {},
     "output_type": "execute_result"
    }
   ],
   "source": [
    "# Now, we define the parameters and create the ansatz\n",
    "# the ansatz, as required, is a combination of the analog evolution \n",
    "# of the processor hamiltonian and digital, single qubit gates\n",
    "from numbers import Number\n",
    "num_qubits = 2\n",
    "qr = QuantumRegister(2)\n",
    "ansatz = QuantumCircuit(qr)\n",
    "\n",
    "theta = Parameter('a')\n",
    "beta = Parameter('b')\n",
    "t = Parameter('t')\n",
    "\n",
    "ansatz.ry(theta,0)\n",
    "ansatz.rx(beta,1)\n",
    "# add the custom analog block with parameter t as time\n",
    "connectivity = [[0,1]]\n",
    "#h_coeffs = []\n",
    "qubits = [qr[0],qr[1]]\n",
    "ansatz.custom_hamiltonian(1,connectivity,t,qubits,label='Analog_Block1')\n",
    "ansatz.draw()"
   ]
  },
  {
   "cell_type": "code",
   "execution_count": 18,
   "id": "8bce81fd",
   "metadata": {},
   "outputs": [],
   "source": [
    "from qiskit import Aer\n",
    "from qiskit.utils import QuantumInstance, algorithm_globals\n",
    "from qiskit.algorithms import VQE, NumPyMinimumEigensolver\n",
    "from qiskit.algorithms.optimizers import SPSA\n",
    "from qiskit.circuit.library import TwoLocal\n",
    "from qiskit.opflow import I, X, Z\n",
    "from qiskit.extensions.unitary import UnitaryGate"
   ]
  },
  {
   "cell_type": "code",
   "execution_count": 19,
   "id": "0135470e",
   "metadata": {},
   "outputs": [],
   "source": [
    "seed = 170\n",
    "iterations = 125\n",
    "algorithm_globals.random_seed = seed\n",
    "backend = Aer.get_backend('aer_simulator')\n",
    "qi = QuantumInstance(backend=backend, seed_simulator=seed, seed_transpiler=seed) \n",
    "\n",
    "counts = []\n",
    "values = []\n",
    "def store_intermediate_result(eval_count, parameters, mean, std):\n",
    "    counts.append(eval_count)\n",
    "    values.append(mean)"
   ]
  },
  {
   "cell_type": "code",
   "execution_count": 20,
   "id": "dad17b6f",
   "metadata": {},
   "outputs": [
    {
     "name": "stdout",
     "output_type": "stream",
     "text": [
      "Reference value: -1.85728\n"
     ]
    }
   ],
   "source": [
    "H2_op = (-1.052373245772859 * I ^ I) + \\\n",
    "        (0.39793742484318045 * I ^ Z) + \\\n",
    "        (-0.39793742484318045 * Z ^ I) + \\\n",
    "        (-0.01128010425623538 * Z ^ Z) + \\\n",
    "        (0.18093119978423156 * X ^ X)\n",
    "\n",
    "spsa = SPSA(maxiter=iterations)\n",
    "vqe = VQE(ansatz, optimizer=spsa, callback=store_intermediate_result, quantum_instance=qi)\n",
    "\n",
    "npme = NumPyMinimumEigensolver()\n",
    "result = npme.compute_minimum_eigenvalue(operator=H2_op)\n",
    "ref_value = result.eigenvalue.real\n",
    "print(f'Reference value: {ref_value:.5f}')"
   ]
  },
  {
   "cell_type": "code",
   "execution_count": 21,
   "id": "6eab478a",
   "metadata": {},
   "outputs": [
    {
     "name": "stdout",
     "output_type": "stream",
     "text": [
      "Result without noise is -1.83859\n",
      "Delta from reference energy value is 0.01869\n"
     ]
    }
   ],
   "source": [
    "result = vqe.compute_minimum_eigenvalue(operator=H2_op)\n",
    "print(f'Result without noise is {result.eigenvalue.real:.5f}')\n",
    "print(f'Delta from reference energy value is {(result.eigenvalue.real - ref_value):.5f}')"
   ]
  },
  {
   "cell_type": "markdown",
   "id": "13088cea",
   "metadata": {},
   "source": [
    "We observe that the value of energy using our digital-analog ansatz - a pair of digital single qubit gates followed by the analog block is close, but there is still room for improvement. \n",
    "\n",
    "It is expected that with an increase in the depth of the ansatz, a more accurate estimate might be got.\n"
   ]
  },
  {
   "cell_type": "markdown",
   "id": "a4c92060",
   "metadata": {},
   "source": [
    "The following code illustrates the performance of the digital-analog ansatz with a noise model, and then with a noise model and measurement error mitigation."
   ]
  },
  {
   "cell_type": "code",
   "execution_count": 22,
   "id": "18d762f4",
   "metadata": {},
   "outputs": [
    {
     "name": "stdout",
     "output_type": "stream",
     "text": [
      "NoiseModel:\n",
      "  Basis gates: ['cx', 'id', 'kraus', 'qerror_loc', 'quantum_channel', 'roerror', 'rz', 'save_amplitudes', 'save_amplitudes_sq', 'save_density_matrix', 'save_expval', 'save_expval_var', 'save_probabilities', 'save_probabilities_dict', 'save_stabilizer', 'save_state', 'save_statevector', 'save_statevector_dict', 'set_density_matrix', 'set_stabilizer', 'set_statevector', 'snapshot', 'sx', 'x']\n",
      "  Instructions with noise: ['x', 'cx', 'measure', 'sx', 'id']\n",
      "  Qubits with noise: [0, 1, 2, 3, 4]\n",
      "  Specific qubit errors: [('id', (0,)), ('id', (1,)), ('id', (2,)), ('id', (3,)), ('id', (4,)), ('sx', (0,)), ('sx', (1,)), ('sx', (2,)), ('sx', (3,)), ('sx', (4,)), ('x', (0,)), ('x', (1,)), ('x', (2,)), ('x', (3,)), ('x', (4,)), ('cx', (3, 4)), ('cx', (4, 3)), ('cx', (3, 1)), ('cx', (1, 3)), ('cx', (1, 2)), ('cx', (2, 1)), ('cx', (0, 1)), ('cx', (1, 0)), ('measure', (0,)), ('measure', (1,)), ('measure', (2,)), ('measure', (3,)), ('measure', (4,))]\n",
      "\n",
      "VQE on Aer qasm simulator (with noise): -1.79077\n",
      "Delta from reference energy value is 0.06650\n"
     ]
    }
   ],
   "source": [
    "## With noise\n",
    "\n",
    "import os\n",
    "from qiskit.providers.aer import QasmSimulator\n",
    "from qiskit.providers.aer.noise import NoiseModel\n",
    "from qiskit.test.mock import FakeVigo\n",
    "device_backend = FakeVigo()\n",
    "\n",
    "backend = Aer.get_backend('aer_simulator')\n",
    "counts1 = []\n",
    "values1 = []\n",
    "noise_model = None\n",
    "device = QasmSimulator.from_backend(device_backend)\n",
    "coupling_map = device.configuration().coupling_map\n",
    "noise_model = NoiseModel.from_backend(device)\n",
    "basis_gates = noise_model.basis_gates\n",
    "\n",
    "print(noise_model)\n",
    "print()\n",
    "\n",
    "algorithm_globals.random_seed = seed\n",
    "qi = QuantumInstance(backend=backend, seed_simulator=seed, seed_transpiler=seed,\n",
    "                     coupling_map=coupling_map, noise_model=noise_model,)\n",
    "\n",
    "def store_intermediate_result1(eval_count, parameters, mean, std):\n",
    "    counts1.append(eval_count)\n",
    "    values1.append(mean)\n",
    "\n",
    "var_form = TwoLocal(rotation_blocks='ry', entanglement_blocks='cz')\n",
    "spsa = SPSA(maxiter=iterations)\n",
    "vqe = VQE(ansatz, optimizer=spsa, callback=store_intermediate_result1, quantum_instance=qi)\n",
    "result1 = vqe.compute_minimum_eigenvalue(operator=H2_op)\n",
    "print(f'VQE on Aer qasm simulator (with noise): {result1.eigenvalue.real:.5f}')\n",
    "print(f'Delta from reference energy value is {(result1.eigenvalue.real - ref_value):.5f}')\n"
   ]
  },
  {
   "cell_type": "code",
   "execution_count": 24,
   "id": "9e74bf52",
   "metadata": {},
   "outputs": [
    {
     "name": "stdout",
     "output_type": "stream",
     "text": [
      "VQE on Aer qasm simulator (with noise and measurement error mitigation): -1.86029\n",
      "Delta from reference energy value is -0.00301\n"
     ]
    }
   ],
   "source": [
    "# Noise and measurement error mitigation\n",
    "\n",
    "from qiskit.utils.mitigation import CompleteMeasFitter\n",
    "\n",
    "counts2 = []\n",
    "values2 = []\n",
    "if noise_model is not None:\n",
    "    algorithm_globals.random_seed = seed\n",
    "    qi = QuantumInstance(backend=backend, seed_simulator=seed, seed_transpiler=seed,\n",
    "                         coupling_map=coupling_map, noise_model=noise_model, \n",
    "                         measurement_error_mitigation_cls=CompleteMeasFitter, \n",
    "                         cals_matrix_refresh_period=30)\n",
    "\n",
    "    def store_intermediate_result2(eval_count, parameters, mean, std):\n",
    "        counts2.append(eval_count)\n",
    "        values2.append(mean)\n",
    "\n",
    "    spsa = SPSA(maxiter=iterations)\n",
    "    vqe = VQE(ansatz, optimizer=spsa, callback=store_intermediate_result2, quantum_instance=qi)\n",
    "    result2 = vqe.compute_minimum_eigenvalue(operator=H2_op)\n",
    "    print(f'VQE on Aer qasm simulator (with noise and measurement error mitigation): {result2.eigenvalue.real:.5f}')\n",
    "    print(f'Delta from reference energy value is {(result2.eigenvalue.real - ref_value):.5f}')"
   ]
  },
  {
   "cell_type": "code",
   "execution_count": null,
   "id": "8ebb5f9f",
   "metadata": {},
   "outputs": [],
   "source": [
    "Thus, we infer that our ansatz is not immune to noise, as our outputs are now farther from the reference value."
   ]
  },
  {
   "cell_type": "markdown",
   "id": "e093b4b6",
   "metadata": {},
   "source": [
    "## Analysis\n",
    "### How do different Hamiltonians affect the DAQC VQE? \n",
    "In doing this challenge, we have gathered that the choice of the hamiltonian plays a huge role in determining the success of the VQE implementation. \n",
    "\n",
    "### How does it compare to digital quantum computing?\n",
    "With the right analog blocks, VQE becomes more accurate. Hence, there is a notable advantage hardware-efficient and problem-inspired ansatze have. However, several factors, like the depth of the circuit, the number of digital gates, the noise model, etc have to be kept in mind. "
   ]
  },
  {
   "cell_type": "code",
   "execution_count": null,
   "id": "e87d06a9",
   "metadata": {},
   "outputs": [],
   "source": []
  }
 ],
 "metadata": {
  "kernelspec": {
   "display_name": "Python 3 (ipykernel)",
   "language": "python",
   "name": "python3"
  },
  "language_info": {
   "codemirror_mode": {
    "name": "ipython",
    "version": 3
   },
   "file_extension": ".py",
   "mimetype": "text/x-python",
   "name": "python",
   "nbconvert_exporter": "python",
   "pygments_lexer": "ipython3",
   "version": "3.10.4"
  }
 },
 "nbformat": 4,
 "nbformat_minor": 5
}
